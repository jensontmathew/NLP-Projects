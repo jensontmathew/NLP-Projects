{
 "cells": [
  {
   "cell_type": "code",
   "execution_count": 30,
   "id": "1ce6b5d9",
   "metadata": {},
   "outputs": [],
   "source": [
    "import numpy as np\n",
    "import pandas as pd\n",
    "import matplotlib.pyplot as plt\n",
    "import seaborn as sns\n",
    "%matplotlib inline\n",
    "import nltk"
   ]
  },
  {
   "cell_type": "code",
   "execution_count": 31,
   "id": "81b06423",
   "metadata": {},
   "outputs": [],
   "source": [
    "df=pd.read_csv('/Users/jensontmathew/Downloads/Dataset/twitter_validation.csv',header=None)"
   ]
  },
  {
   "cell_type": "code",
   "execution_count": 32,
   "id": "bde9816e",
   "metadata": {},
   "outputs": [],
   "source": [
    "df.columns=['Id','Location','Target','Text']"
   ]
  },
  {
   "cell_type": "code",
   "execution_count": 33,
   "id": "ee584bf5",
   "metadata": {},
   "outputs": [
    {
     "data": {
      "text/html": [
       "<div>\n",
       "<style scoped>\n",
       "    .dataframe tbody tr th:only-of-type {\n",
       "        vertical-align: middle;\n",
       "    }\n",
       "\n",
       "    .dataframe tbody tr th {\n",
       "        vertical-align: top;\n",
       "    }\n",
       "\n",
       "    .dataframe thead th {\n",
       "        text-align: right;\n",
       "    }\n",
       "</style>\n",
       "<table border=\"1\" class=\"dataframe\">\n",
       "  <thead>\n",
       "    <tr style=\"text-align: right;\">\n",
       "      <th></th>\n",
       "      <th>Id</th>\n",
       "      <th>Location</th>\n",
       "      <th>Target</th>\n",
       "      <th>Text</th>\n",
       "    </tr>\n",
       "  </thead>\n",
       "  <tbody>\n",
       "    <tr>\n",
       "      <th>0</th>\n",
       "      <td>3364</td>\n",
       "      <td>Facebook</td>\n",
       "      <td>Irrelevant</td>\n",
       "      <td>I mentioned on Facebook that I was struggling ...</td>\n",
       "    </tr>\n",
       "    <tr>\n",
       "      <th>1</th>\n",
       "      <td>352</td>\n",
       "      <td>Amazon</td>\n",
       "      <td>Neutral</td>\n",
       "      <td>BBC News - Amazon boss Jeff Bezos rejects clai...</td>\n",
       "    </tr>\n",
       "    <tr>\n",
       "      <th>2</th>\n",
       "      <td>8312</td>\n",
       "      <td>Microsoft</td>\n",
       "      <td>Negative</td>\n",
       "      <td>@Microsoft Why do I pay for WORD when it funct...</td>\n",
       "    </tr>\n",
       "    <tr>\n",
       "      <th>3</th>\n",
       "      <td>4371</td>\n",
       "      <td>CS-GO</td>\n",
       "      <td>Negative</td>\n",
       "      <td>CSGO matchmaking is so full of closet hacking,...</td>\n",
       "    </tr>\n",
       "    <tr>\n",
       "      <th>4</th>\n",
       "      <td>4433</td>\n",
       "      <td>Google</td>\n",
       "      <td>Neutral</td>\n",
       "      <td>Now the President is slapping Americans in the...</td>\n",
       "    </tr>\n",
       "  </tbody>\n",
       "</table>\n",
       "</div>"
      ],
      "text/plain": [
       "     Id   Location      Target  \\\n",
       "0  3364   Facebook  Irrelevant   \n",
       "1   352     Amazon     Neutral   \n",
       "2  8312  Microsoft    Negative   \n",
       "3  4371      CS-GO    Negative   \n",
       "4  4433     Google     Neutral   \n",
       "\n",
       "                                                Text  \n",
       "0  I mentioned on Facebook that I was struggling ...  \n",
       "1  BBC News - Amazon boss Jeff Bezos rejects clai...  \n",
       "2  @Microsoft Why do I pay for WORD when it funct...  \n",
       "3  CSGO matchmaking is so full of closet hacking,...  \n",
       "4  Now the President is slapping Americans in the...  "
      ]
     },
     "execution_count": 33,
     "metadata": {},
     "output_type": "execute_result"
    }
   ],
   "source": [
    "df.head()"
   ]
  },
  {
   "cell_type": "code",
   "execution_count": 34,
   "id": "a8de90a2",
   "metadata": {},
   "outputs": [
    {
     "name": "stdout",
     "output_type": "stream",
     "text": [
      "<class 'pandas.core.frame.DataFrame'>\n",
      "RangeIndex: 1000 entries, 0 to 999\n",
      "Data columns (total 4 columns):\n",
      " #   Column    Non-Null Count  Dtype \n",
      "---  ------    --------------  ----- \n",
      " 0   Id        1000 non-null   int64 \n",
      " 1   Location  1000 non-null   object\n",
      " 2   Target    1000 non-null   object\n",
      " 3   Text      1000 non-null   object\n",
      "dtypes: int64(1), object(3)\n",
      "memory usage: 31.4+ KB\n"
     ]
    }
   ],
   "source": [
    "df.info()"
   ]
  },
  {
   "cell_type": "code",
   "execution_count": 35,
   "id": "14081393",
   "metadata": {},
   "outputs": [
    {
     "data": {
      "text/plain": [
       "array(['Facebook', 'Amazon', 'Microsoft', 'CS-GO', 'Google', 'FIFA',\n",
       "       'MaddenNFL', 'TomClancysRainbowSix', 'AssassinsCreed',\n",
       "       'CallOfDuty', 'Dota2', 'Verizon', 'NBA2K', 'Nvidia',\n",
       "       'GrandTheftAuto(GTA)', 'RedDeadRedemption(RDR)', 'Hearthstone',\n",
       "       'ApexLegends', 'Overwatch', 'PlayerUnknownsBattlegrounds(PUBG)',\n",
       "       'Borderlands', 'PlayStation5(PS5)', 'johnson&johnson', 'Fortnite',\n",
       "       'Xbox(Xseries)', 'CallOfDutyBlackopsColdWar', 'HomeDepot',\n",
       "       'Cyberpunk2077', 'TomClancysGhostRecon', 'WorldOfCraft',\n",
       "       'LeagueOfLegends', 'Battlefield'], dtype=object)"
      ]
     },
     "execution_count": 35,
     "metadata": {},
     "output_type": "execute_result"
    }
   ],
   "source": [
    "df['Location'].unique()"
   ]
  },
  {
   "cell_type": "code",
   "execution_count": 36,
   "id": "32ec4521",
   "metadata": {},
   "outputs": [
    {
     "data": {
      "text/plain": [
       "RedDeadRedemption(RDR)               40\n",
       "johnson&johnson                      39\n",
       "FIFA                                 38\n",
       "PlayerUnknownsBattlegrounds(PUBG)    38\n",
       "LeagueOfLegends                      37\n",
       "ApexLegends                          36\n",
       "TomClancysRainbowSix                 35\n",
       "Nvidia                               35\n",
       "GrandTheftAuto(GTA)                  35\n",
       "Amazon                               34\n",
       "Fortnite                             34\n",
       "Facebook                             33\n",
       "PlayStation5(PS5)                    33\n",
       "AssassinsCreed                       33\n",
       "Borderlands                          33\n",
       "Overwatch                            32\n",
       "Hearthstone                          32\n",
       "Verizon                              32\n",
       "CS-GO                                32\n",
       "CallOfDuty                           31\n",
       "Cyberpunk2077                        30\n",
       "WorldOfCraft                         30\n",
       "MaddenNFL                            29\n",
       "Microsoft                            28\n",
       "Dota2                                27\n",
       "CallOfDutyBlackopsColdWar            27\n",
       "Xbox(Xseries)                        26\n",
       "Battlefield                          26\n",
       "Google                               24\n",
       "TomClancysGhostRecon                 22\n",
       "NBA2K                                21\n",
       "HomeDepot                            18\n",
       "Name: Location, dtype: int64"
      ]
     },
     "execution_count": 36,
     "metadata": {},
     "output_type": "execute_result"
    }
   ],
   "source": [
    "df['Location'].value_counts()"
   ]
  },
  {
   "cell_type": "code",
   "execution_count": 37,
   "id": "8ed6847c",
   "metadata": {},
   "outputs": [
    {
     "data": {
      "image/png": "[encoded data removed]",
      "text/plain": [
       "<Figure size 1200x1200 with 1 Axes>"
      ]
     },
     "metadata": {},
     "output_type": "display_data"
    }
   ],
   "source": [
    "plt.figure(figsize=(12,12))\n",
    "plt.xticks(rotation=90)\n",
    "sns.countplot(x='Location',data=df)\n",
    "plt.show()"
   ]
  },
  {
   "cell_type": "code",
   "execution_count": 38,
   "id": "f44a4358",
   "metadata": {},
   "outputs": [
    {
     "data": {
      "text/plain": [
       "Neutral       285\n",
       "Positive      277\n",
       "Negative      266\n",
       "Irrelevant    172\n",
       "Name: Target, dtype: int64"
      ]
     },
     "execution_count": 38,
     "metadata": {},
     "output_type": "execute_result"
    }
   ],
   "source": [
    "df['Target'].value_counts()"
   ]
  },
  {
   "cell_type": "code",
   "execution_count": 39,
   "id": "1710fcd7",
   "metadata": {},
   "outputs": [
    {
     "data": {
      "image/png": "[encoded data removed]",
      "text/plain": [
       "<Figure size 600x600 with 1 Axes>"
      ]
     },
     "metadata": {},
     "output_type": "display_data"
    }
   ],
   "source": [
    "plt.figure(figsize=(6,6))\n",
    "plt.xticks(rotation=90)\n",
    "sns.countplot(x='Target',data=df)\n",
    "plt.show()"
   ]
  },
  {
   "cell_type": "code",
   "execution_count": 40,
   "id": "7ec5f5e9",
   "metadata": {},
   "outputs": [],
   "source": [
    "#we are dropping the rows that has target irrelevant.\n",
    "df.drop(df.index[(df['Target']=='Irrelevant')],axis=0,inplace=True)"
   ]
  },
  {
   "cell_type": "code",
   "execution_count": 41,
   "id": "fa5912a0",
   "metadata": {},
   "outputs": [
    {
     "data": {
      "text/plain": [
       "array(['Neutral', 'Negative', 'Positive'], dtype=object)"
      ]
     },
     "execution_count": 41,
     "metadata": {},
     "output_type": "execute_result"
    }
   ],
   "source": [
    "df['Target'].unique()"
   ]
  },
  {
   "cell_type": "code",
   "execution_count": 42,
   "id": "fc5d877f",
   "metadata": {},
   "outputs": [
    {
     "data": {
      "text/html": [
       "<div>\n",
       "<style scoped>\n",
       "    .dataframe tbody tr th:only-of-type {\n",
       "        vertical-align: middle;\n",
       "    }\n",
       "\n",
       "    .dataframe tbody tr th {\n",
       "        vertical-align: top;\n",
       "    }\n",
       "\n",
       "    .dataframe thead th {\n",
       "        text-align: right;\n",
       "    }\n",
       "</style>\n",
       "<table border=\"1\" class=\"dataframe\">\n",
       "  <thead>\n",
       "    <tr style=\"text-align: right;\">\n",
       "      <th></th>\n",
       "      <th>Id</th>\n",
       "      <th>Location</th>\n",
       "      <th>Target</th>\n",
       "      <th>Text</th>\n",
       "    </tr>\n",
       "  </thead>\n",
       "  <tbody>\n",
       "    <tr>\n",
       "      <th>1</th>\n",
       "      <td>352</td>\n",
       "      <td>Amazon</td>\n",
       "      <td>Neutral</td>\n",
       "      <td>BBC News - Amazon boss Jeff Bezos rejects clai...</td>\n",
       "    </tr>\n",
       "    <tr>\n",
       "      <th>2</th>\n",
       "      <td>8312</td>\n",
       "      <td>Microsoft</td>\n",
       "      <td>Negative</td>\n",
       "      <td>@Microsoft Why do I pay for WORD when it funct...</td>\n",
       "    </tr>\n",
       "    <tr>\n",
       "      <th>3</th>\n",
       "      <td>4371</td>\n",
       "      <td>CS-GO</td>\n",
       "      <td>Negative</td>\n",
       "      <td>CSGO matchmaking is so full of closet hacking,...</td>\n",
       "    </tr>\n",
       "    <tr>\n",
       "      <th>4</th>\n",
       "      <td>4433</td>\n",
       "      <td>Google</td>\n",
       "      <td>Neutral</td>\n",
       "      <td>Now the President is slapping Americans in the...</td>\n",
       "    </tr>\n",
       "    <tr>\n",
       "      <th>5</th>\n",
       "      <td>6273</td>\n",
       "      <td>FIFA</td>\n",
       "      <td>Negative</td>\n",
       "      <td>Hi @EAHelp I’ve had Madeleine McCann in my cel...</td>\n",
       "    </tr>\n",
       "  </tbody>\n",
       "</table>\n",
       "</div>"
      ],
      "text/plain": [
       "     Id   Location    Target  \\\n",
       "1   352     Amazon   Neutral   \n",
       "2  8312  Microsoft  Negative   \n",
       "3  4371      CS-GO  Negative   \n",
       "4  4433     Google   Neutral   \n",
       "5  6273       FIFA  Negative   \n",
       "\n",
       "                                                Text  \n",
       "1  BBC News - Amazon boss Jeff Bezos rejects clai...  \n",
       "2  @Microsoft Why do I pay for WORD when it funct...  \n",
       "3  CSGO matchmaking is so full of closet hacking,...  \n",
       "4  Now the President is slapping Americans in the...  \n",
       "5  Hi @EAHelp I’ve had Madeleine McCann in my cel...  "
      ]
     },
     "execution_count": 42,
     "metadata": {},
     "output_type": "execute_result"
    }
   ],
   "source": [
    "df.head()"
   ]
  },
  {
   "cell_type": "code",
   "execution_count": 43,
   "id": "c16d53c2",
   "metadata": {},
   "outputs": [],
   "source": [
    "#dropping the id and location column\n",
    "df.drop(['Id','Location'],axis=1,inplace=True)"
   ]
  },
  {
   "cell_type": "code",
   "execution_count": 44,
   "id": "152272d0",
   "metadata": {},
   "outputs": [],
   "source": [
    "df.reset_index(drop=True,inplace=True)"
   ]
  },
  {
   "cell_type": "code",
   "execution_count": 45,
   "id": "e53bfcbd",
   "metadata": {},
   "outputs": [],
   "source": [
    "df['Target']=df['Target'].map({'Positive':1,'Negative':-1,'Neutral':0})"
   ]
  },
  {
   "cell_type": "code",
   "execution_count": 46,
   "id": "7eb34f8e",
   "metadata": {},
   "outputs": [
    {
     "data": {
      "text/html": [
       "<div>\n",
       "<style scoped>\n",
       "    .dataframe tbody tr th:only-of-type {\n",
       "        vertical-align: middle;\n",
       "    }\n",
       "\n",
       "    .dataframe tbody tr th {\n",
       "        vertical-align: top;\n",
       "    }\n",
       "\n",
       "    .dataframe thead th {\n",
       "        text-align: right;\n",
       "    }\n",
       "</style>\n",
       "<table border=\"1\" class=\"dataframe\">\n",
       "  <thead>\n",
       "    <tr style=\"text-align: right;\">\n",
       "      <th></th>\n",
       "      <th>Target</th>\n",
       "      <th>Text</th>\n",
       "    </tr>\n",
       "  </thead>\n",
       "  <tbody>\n",
       "    <tr>\n",
       "      <th>0</th>\n",
       "      <td>0</td>\n",
       "      <td>BBC News - Amazon boss Jeff Bezos rejects clai...</td>\n",
       "    </tr>\n",
       "    <tr>\n",
       "      <th>1</th>\n",
       "      <td>-1</td>\n",
       "      <td>@Microsoft Why do I pay for WORD when it funct...</td>\n",
       "    </tr>\n",
       "    <tr>\n",
       "      <th>2</th>\n",
       "      <td>-1</td>\n",
       "      <td>CSGO matchmaking is so full of closet hacking,...</td>\n",
       "    </tr>\n",
       "    <tr>\n",
       "      <th>3</th>\n",
       "      <td>0</td>\n",
       "      <td>Now the President is slapping Americans in the...</td>\n",
       "    </tr>\n",
       "    <tr>\n",
       "      <th>4</th>\n",
       "      <td>-1</td>\n",
       "      <td>Hi @EAHelp I’ve had Madeleine McCann in my cel...</td>\n",
       "    </tr>\n",
       "    <tr>\n",
       "      <th>...</th>\n",
       "      <td>...</td>\n",
       "      <td>...</td>\n",
       "    </tr>\n",
       "    <tr>\n",
       "      <th>823</th>\n",
       "      <td>-1</td>\n",
       "      <td>Please explain how this is possible! How can t...</td>\n",
       "    </tr>\n",
       "    <tr>\n",
       "      <th>824</th>\n",
       "      <td>1</td>\n",
       "      <td>Good on Sony. As much as I want to see the new...</td>\n",
       "    </tr>\n",
       "    <tr>\n",
       "      <th>825</th>\n",
       "      <td>1</td>\n",
       "      <td>Today sucked so it’s time to drink wine n play...</td>\n",
       "    </tr>\n",
       "    <tr>\n",
       "      <th>826</th>\n",
       "      <td>1</td>\n",
       "      <td>Bought a fraction of Microsoft today. Small wins.</td>\n",
       "    </tr>\n",
       "    <tr>\n",
       "      <th>827</th>\n",
       "      <td>0</td>\n",
       "      <td>Johnson &amp; Johnson to stop selling talc baby po...</td>\n",
       "    </tr>\n",
       "  </tbody>\n",
       "</table>\n",
       "<p>828 rows × 2 columns</p>\n",
       "</div>"
      ],
      "text/plain": [
       "     Target                                               Text\n",
       "0         0  BBC News - Amazon boss Jeff Bezos rejects clai...\n",
       "1        -1  @Microsoft Why do I pay for WORD when it funct...\n",
       "2        -1  CSGO matchmaking is so full of closet hacking,...\n",
       "3         0  Now the President is slapping Americans in the...\n",
       "4        -1  Hi @EAHelp I’ve had Madeleine McCann in my cel...\n",
       "..      ...                                                ...\n",
       "823      -1  Please explain how this is possible! How can t...\n",
       "824       1  Good on Sony. As much as I want to see the new...\n",
       "825       1  Today sucked so it’s time to drink wine n play...\n",
       "826       1  Bought a fraction of Microsoft today. Small wins.\n",
       "827       0  Johnson & Johnson to stop selling talc baby po...\n",
       "\n",
       "[828 rows x 2 columns]"
      ]
     },
     "execution_count": 46,
     "metadata": {},
     "output_type": "execute_result"
    }
   ],
   "source": [
    "df"
   ]
  },
  {
   "cell_type": "code",
   "execution_count": 47,
   "id": "bf17e027",
   "metadata": {},
   "outputs": [],
   "source": [
    "# import nltk\n",
    "# nltk.download('stopwords')"
   ]
  },
  {
   "cell_type": "code",
   "execution_count": 48,
   "id": "0cd94744",
   "metadata": {},
   "outputs": [],
   "source": [
    "# nltk.download('punkt')"
   ]
  },
  {
   "cell_type": "code",
   "execution_count": 49,
   "id": "96173e73",
   "metadata": {},
   "outputs": [],
   "source": [
    "# nltk.download('wordnet')"
   ]
  },
  {
   "cell_type": "code",
   "execution_count": 50,
   "id": "136d9f4d",
   "metadata": {},
   "outputs": [],
   "source": [
    "tweet=df['Text']"
   ]
  },
  {
   "cell_type": "code",
   "execution_count": 51,
   "id": "37cf64d1",
   "metadata": {},
   "outputs": [],
   "source": [
    "# # now we do nlp\n",
    "# from nltk import word_tokenize\n",
    "# nltk.download('punkt')\n",
    "# tweet=tweet.apply(lambda x:tk.word_tokenize(x)).apply(lambda x:\" \".join(x))"
   ]
  },
  {
   "cell_type": "code",
   "execution_count": 52,
   "id": "8a074097",
   "metadata": {},
   "outputs": [],
   "source": [
    "from nltk import TweetTokenizer\n",
    "tk=TweetTokenizer()\n",
    "tweet=tweet.apply(lambda x:tk.tokenize(x)).apply(lambda x:' '.join(x))"
   ]
  },
  {
   "cell_type": "code",
   "execution_count": 53,
   "id": "705dd207",
   "metadata": {},
   "outputs": [
    {
     "data": {
      "text/plain": [
       "0      BBC News - Amazon boss Jeff Bezos rejects clai...\n",
       "1      @Microsoft Why do I pay for WORD when it funct...\n",
       "2      CSGO matchmaking is so full of closet hacking ...\n",
       "3      Now the President is slapping Americans in the...\n",
       "4      Hi @EAHelp I ’ ve had Madeleine McCann in my c...\n",
       "                             ...                        \n",
       "823    Please explain how this is possible ! How can ...\n",
       "824    Good on Sony . As much as I want to see the ne...\n",
       "825    Today sucked so it ’ s time to drink wine n pl...\n",
       "826    Bought a fraction of Microsoft today . Small w...\n",
       "827    Johnson & Johnson to stop selling talc baby po...\n",
       "Name: Text, Length: 828, dtype: object"
      ]
     },
     "execution_count": 53,
     "metadata": {},
     "output_type": "execute_result"
    }
   ],
   "source": [
    "tweet"
   ]
  },
  {
   "cell_type": "code",
   "execution_count": 57,
   "id": "43486e96",
   "metadata": {},
   "outputs": [
    {
     "name": "stderr",
     "output_type": "stream",
     "text": [
      "/var/folders/pm/rykkh9p96rz7t0x93h8qkl9r0000gn/T/ipykernel_3409/2110578106.py:1: FutureWarning: The default value of regex will change from True to False in a future version.\n",
      "  tweet=tweet.str.replace('[^a-zA-Z0-9]+',' ')\n"
     ]
    }
   ],
   "source": [
    "tweet=tweet.str.replace('[^a-zA-Z0-9]+',' ')"
   ]
  },
  {
   "cell_type": "code",
   "execution_count": 58,
   "id": "b1b72c2c",
   "metadata": {},
   "outputs": [
    {
     "data": {
      "text/plain": [
       "0      BBC News Amazon boss Jeff Bezos rejects claims...\n",
       "1       Microsoft Why do I pay for WORD when it funct...\n",
       "2      CSGO matchmaking is so full of closet hacking ...\n",
       "3      Now the President is slapping Americans in the...\n",
       "4      Hi EAHelp I ve had Madeleine McCann in my cell...\n",
       "                             ...                        \n",
       "823    Please explain how this is possible How can th...\n",
       "824    Good on Sony As much as I want to see the new ...\n",
       "825    Today sucked so it s time to drink wine n play...\n",
       "826     Bought a fraction of Microsoft today Small wins \n",
       "827    Johnson Johnson to stop selling talc baby powd...\n",
       "Name: Text, Length: 828, dtype: object"
      ]
     },
     "execution_count": 58,
     "metadata": {},
     "output_type": "execute_result"
    }
   ],
   "source": [
    "tweet"
   ]
  },
  {
   "cell_type": "code",
   "execution_count": 64,
   "id": "763e8596",
   "metadata": {},
   "outputs": [],
   "source": [
    "from nltk.tokenize import word_tokenize\n",
    "tweet=tweet.apply(lambda x:' '.join([w for w in word_tokenize(x) if len(w)>=3]))"
   ]
  },
  {
   "cell_type": "code",
   "execution_count": 65,
   "id": "0c185145",
   "metadata": {},
   "outputs": [
    {
     "data": {
      "text/plain": [
       "0      BBC News Amazon boss Jeff Bezos rejects claims...\n",
       "1      Microsoft Why pay for WORD when functions poor...\n",
       "2      CSGO matchmaking full closet hacking truly awf...\n",
       "3      Now the President slapping Americans the face ...\n",
       "4      EAHelp had Madeleine McCann cellar for the pas...\n",
       "                             ...                        \n",
       "823    Please explain how this possible How can they ...\n",
       "824    Good Sony much want see the new PS5 what going...\n",
       "825    Today sucked time drink wine play borderlands ...\n",
       "826           Bought fraction Microsoft today Small wins\n",
       "827    Johnson Johnson stop selling talc baby powder ...\n",
       "Name: Text, Length: 828, dtype: object"
      ]
     },
     "execution_count": 65,
     "metadata": {},
     "output_type": "execute_result"
    }
   ],
   "source": [
    "tweet"
   ]
  },
  {
   "cell_type": "code",
   "execution_count": 68,
   "id": "fb85e90b",
   "metadata": {},
   "outputs": [],
   "source": [
    "from nltk.stem import SnowballStemmer\n",
    "sw=SnowballStemmer('english')\n",
    "tweet=tweet.apply(lambda x: [sw.stem(i.lower()) for i in tk.tokenize(x)]).apply(lambda x:' '.join(x))\n",
    "# tweet=tweet.apply(lambda x:[stemmer.stem(i.lower()) for i in tk.tokenize(x)]).apply(lambda x:' '.join(x))"
   ]
  },
  {
   "cell_type": "code",
   "execution_count": 69,
   "id": "f62e1ca8",
   "metadata": {},
   "outputs": [
    {
     "data": {
      "text/plain": [
       "0      bbc news amazon boss jeff bezo reject claim co...\n",
       "1      microsoft whi pay for word when function poor ...\n",
       "2           csgo matchmak full closet hack truli aw game\n",
       "3      now the presid slap american the face that rea...\n",
       "4      eahelp had madelein mccann cellar for the past...\n",
       "                             ...                        \n",
       "823    pleas explain how this possibl how can they le...\n",
       "824    good soni much want see the new ps5 what go ri...\n",
       "825    today suck time drink wine play borderland unt...\n",
       "826            bought fraction microsoft today small win\n",
       "827    johnson johnson stop sell talc babi powder and...\n",
       "Name: Text, Length: 828, dtype: object"
      ]
     },
     "execution_count": 69,
     "metadata": {},
     "output_type": "execute_result"
    }
   ],
   "source": [
    "tweet"
   ]
  },
  {
   "cell_type": "code",
   "execution_count": 73,
   "id": "9d27bcfe",
   "metadata": {},
   "outputs": [],
   "source": [
    "from nltk.corpus import stopwords\n",
    "sw=stopwords.words('english')\n",
    "tweet=tweet.apply(lambda x:[i for i in word_tokenize(x) if i not in sw]).apply(lambda x:' '.join(x))"
   ]
  },
  {
   "cell_type": "code",
   "execution_count": 74,
   "id": "398a7ca6",
   "metadata": {},
   "outputs": [
    {
     "data": {
      "text/plain": [
       "0      bbc news amazon boss jeff bezo reject claim co...\n",
       "1      microsoft whi pay word function poor samsungus...\n",
       "2           csgo matchmak full closet hack truli aw game\n",
       "3      presid slap american face realli commit unlaw ...\n",
       "4      eahelp madelein mccann cellar past year littl ...\n",
       "                             ...                        \n",
       "823    pleas explain possibl let compani overcharg sc...\n",
       "824    good soni much want see new ps5 go right much ...\n",
       "825    today suck time drink wine play borderland sun...\n",
       "826            bought fraction microsoft today small win\n",
       "827    johnson johnson stop sell talc babi powder can...\n",
       "Name: Text, Length: 828, dtype: object"
      ]
     },
     "execution_count": 74,
     "metadata": {},
     "output_type": "execute_result"
    }
   ],
   "source": [
    "tweet"
   ]
  },
  {
   "cell_type": "code",
   "execution_count": 76,
   "id": "98988674",
   "metadata": {},
   "outputs": [],
   "source": [
    "from sklearn.feature_extraction.text import TfidfVectorizer\n",
    "tf=TfidfVectorizer()\n",
    "data=tf.fit_transform(tweet)"
   ]
  },
  {
   "cell_type": "code",
   "execution_count": 77,
   "id": "efd5e974",
   "metadata": {},
   "outputs": [
    {
     "data": {
      "text/plain": [
       "<828x3783 sparse matrix of type '<class 'numpy.float64'>'\n",
       "\twith 10505 stored elements in Compressed Sparse Row format>"
      ]
     },
     "execution_count": 77,
     "metadata": {},
     "output_type": "execute_result"
    }
   ],
   "source": [
    "data"
   ]
  },
  {
   "cell_type": "code",
   "execution_count": 78,
   "id": "3c68e1d4",
   "metadata": {},
   "outputs": [
    {
     "data": {
      "text/plain": [
       "(828, 3783)"
      ]
     },
     "execution_count": 78,
     "metadata": {},
     "output_type": "execute_result"
    }
   ],
   "source": [
    "data.shape"
   ]
  },
  {
   "cell_type": "code",
   "execution_count": 79,
   "id": "b25e82f3",
   "metadata": {},
   "outputs": [],
   "source": [
    "x=data\n",
    "y=df['Target']"
   ]
  },
  {
   "cell_type": "code",
   "execution_count": 81,
   "id": "0879a2eb",
   "metadata": {},
   "outputs": [],
   "source": [
    "from sklearn.model_selection import train_test_split\n",
    "x_train,x_test,y_train,y_test=train_test_split(x,y,test_size=0.3,random_state=42)"
   ]
  },
  {
   "cell_type": "code",
   "execution_count": 83,
   "id": "dd063420",
   "metadata": {},
   "outputs": [],
   "source": [
    "from sklearn.svm import SVC\n",
    "model=SVC()\n",
    "model.fit(x_train,y_train)\n",
    "y_pred=model.predict(x_test)"
   ]
  },
  {
   "cell_type": "code",
   "execution_count": 84,
   "id": "35072ef2",
   "metadata": {},
   "outputs": [
    {
     "name": "stdout",
     "output_type": "stream",
     "text": [
      "              precision    recall  f1-score   support\n",
      "\n",
      "          -1       0.67      0.52      0.59        79\n",
      "           0       0.46      0.76      0.57        79\n",
      "           1       0.76      0.48      0.59        91\n",
      "\n",
      "    accuracy                           0.58       249\n",
      "   macro avg       0.63      0.59      0.58       249\n",
      "weighted avg       0.64      0.58      0.58       249\n",
      "\n"
     ]
    }
   ],
   "source": [
    "from sklearn.metrics import classification_report\n",
    "print(classification_report(y_test,y_pred))"
   ]
  }
 ],
 "metadata": {
  "kernelspec": {
   "display_name": "Python 3 (ipykernel)",
   "language": "python",
   "name": "python3"
  },
  "language_info": {
   "codemirror_mode": {
    "name": "ipython",
    "version": 3
   },
   "file_extension": ".py",
   "mimetype": "text/x-python",
   "name": "python",
   "nbconvert_exporter": "python",
   "pygments_lexer": "ipython3",
   "version": "3.9.13"
  }
 },
 "nbformat": 4,
 "nbformat_minor": 5
}
